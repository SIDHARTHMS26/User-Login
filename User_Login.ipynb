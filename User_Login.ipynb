{
  "nbformat": 4,
  "nbformat_minor": 0,
  "metadata": {
    "colab": {
      "name": "User Login.ipynb",
      "provenance": []
    },
    "kernelspec": {
      "name": "python3",
      "display_name": "Python 3"
    },
    "language_info": {
      "name": "python"
    }
  },
  "cells": [
    {
      "cell_type": "code",
      "source": [
        "def register():\n",
        "  db=open(\"database.txt\",\"r\")\n",
        "  username=input(\"Enter Username: \")\n",
        "  password=input(\"Enter Password: \")\n",
        "  password1=input(\"Confirm Password: \")\n",
        "\n",
        "  if password != password1:\n",
        "    print(\"Password Does Not Match, Restart\")\n",
        "    register()\n",
        "  else:\n",
        "    if len(password)<=6:\n",
        "      print(\"Password is too short, Restart\")\n",
        "      register()\n",
        "    else:\n",
        "      db=open(\"database.txt\",\"a\")\n",
        "      db.write(username+\", \"+password+\"\\n\")\n",
        "      print(\"Success!\")\n",
        "\n",
        "register()\n",
        "\n"
      ],
      "metadata": {
        "colab": {
          "base_uri": "https://localhost:8080/"
        },
        "id": "kf7Qqo1_BRo0",
        "outputId": "1c5d3d3f-b7ec-4970-e339-da1677375e5f"
      },
      "execution_count": null,
      "outputs": [
        {
          "output_type": "stream",
          "name": "stdout",
          "text": [
            "Enter Username: kiraz\n",
            "Enter Password: sidharth\n",
            "Confirm Password: sidharth\n",
            "Success!\n"
          ]
        }
      ]
    },
    {
      "cell_type": "code",
      "source": [
        ""
      ],
      "metadata": {
        "id": "tbQ5Evmo3XmE"
      },
      "execution_count": null,
      "outputs": []
    }
  ]
}